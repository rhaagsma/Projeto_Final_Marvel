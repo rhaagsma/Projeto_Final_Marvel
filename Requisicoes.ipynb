{
  "nbformat": 4,
  "nbformat_minor": 0,
  "metadata": {
    "colab": {
      "provenance": [],
      "include_colab_link": true
    },
    "kernelspec": {
      "name": "python3",
      "display_name": "Python 3"
    },
    "language_info": {
      "name": "python"
    }
  },
  "cells": [
    {
      "cell_type": "markdown",
      "metadata": {
        "id": "view-in-github",
        "colab_type": "text"
      },
      "source": [
        "<a href=\"https://colab.research.google.com/github/rhaagsma/Projeto_Final_Marvel/blob/main/Requisicoes.ipynb\" target=\"_parent\"><img src=\"https://colab.research.google.com/assets/colab-badge.svg\" alt=\"Open In Colab\"/></a>"
      ]
    },
    {
      "cell_type": "markdown",
      "source": [
        "## Importações e definições"
      ],
      "metadata": {
        "id": "Lny5CCPQ7x0B"
      }
    },
    {
      "cell_type": "markdown",
      "source": [
        "### Fazendo Importações e passando os parâmetros necessários para realizar as resquisições"
      ],
      "metadata": {
        "id": "pWWBNQbVCz2t"
      }
    },
    {
      "cell_type": "code",
      "execution_count": null,
      "metadata": {
        "id": "ggcSLBTFVnkb"
      },
      "outputs": [],
      "source": [
        "import hashlib\n",
        "import time\n",
        "import requests\n",
        "import sqlite3\n",
        "import ast\n",
        "import pandas as pd\n",
        "from google.colab import userdata\n",
        "\n",
        "public_key = userdata.get('public')\n",
        "private_key = userdata.get('private')\n",
        "\n",
        "ts = str(time.time())\n",
        "to_hash = ts + private_key + public_key\n",
        "hash_digest = hashlib.md5(to_hash.encode()).hexdigest()\n",
        "auth_params = {\n",
        "        \"ts\": ts,\n",
        "        \"apikey\": public_key,\n",
        "        \"hash\": hash_digest,\n",
        "    }"
      ]
    },
    {
      "cell_type": "code",
      "source": [
        "url1 = \"https://gateway.marvel.com/v1/public/characters\"\n",
        "url2 = \"https://gateway.marvel.com/v1/public/comics\"\n",
        "url3 = \"https://gateway.marvel.com/v1/public/events\"\n",
        "url4 = \"https://gateway.marvel.com/v1/public/series\""
      ],
      "metadata": {
        "id": "obYjQPF0ZlFX"
      },
      "execution_count": null,
      "outputs": []
    },
    {
      "cell_type": "markdown",
      "source": [
        "### Definição da Função que retorna os dados da Requisição em um Dataframe"
      ],
      "metadata": {
        "id": "hpjFSe2lsOBV"
      }
    },
    {
      "cell_type": "code",
      "source": [
        "def get_data(url, limit = 100):\n",
        "  total_data = 0\n",
        "  offset = 0\n",
        "  data = pd.DataFrame()\n",
        "\n",
        "  # Garante a entrada no loop na primeira vez\n",
        "  while offset < total_data or total_data == 0:\n",
        "      print(offset)\n",
        "      auth_params['offset'] = offset\n",
        "      auth_params['limit'] = limit\n",
        "      response = requests.get(url, auth_params)\n",
        "      response = response.json()\n",
        "\n",
        "      # Atualiza total_data após a primeira requisição\n",
        "      if total_data == 0:\n",
        "          total_data = response['data']['total']\n",
        "\n",
        "      # Verifica se a resposta contém dados\n",
        "      if not response['data']['results']:\n",
        "          break\n",
        "\n",
        "      response = pd.json_normalize(response['data']['results'])\n",
        "      df1 = response\n",
        "      data = pd.concat([data, df1])\n",
        "      offset += len(df1)\n",
        "\n",
        "  return data"
      ],
      "metadata": {
        "id": "vwmVxGQOXu3k"
      },
      "execution_count": null,
      "outputs": []
    },
    {
      "cell_type": "markdown",
      "source": [
        "### Definição da Função para criar uma tabela no banco"
      ],
      "metadata": {
        "id": "-G4S2JGOdmcF"
      }
    },
    {
      "cell_type": "code",
      "source": [
        "def create_table(df, columns, name):\n",
        "  conn = sqlite3.connect('banco.db')\n",
        "\n",
        "  df[columns].to_sql(name, conn, if_exists='replace', index=False)\n",
        "\n",
        "  conn.close()"
      ],
      "metadata": {
        "id": "RSYlS0aUdluG"
      },
      "execution_count": null,
      "outputs": []
    },
    {
      "cell_type": "markdown",
      "source": [
        "### Definição de uma Função que extrai os preços da lista de dicionários do Endpoint Comics"
      ],
      "metadata": {
        "id": "f77GkfV7vmqW"
      }
    },
    {
      "cell_type": "code",
      "source": [
        "def extrair_preco(lista_precos):\n",
        "    try:\n",
        "        # Converte a string em lista de dicionários, se necessário\n",
        "        if isinstance(lista_precos, str):\n",
        "            lista_precos = ast.literal_eval(lista_precos)\n",
        "\n",
        "        for item in lista_precos:\n",
        "            if item.get('type') == 'printPrice':\n",
        "                return item.get('price')\n",
        "    except Exception as e:\n",
        "        print(f\"Erro ao processar: {lista_precos} -> {e}\")\n",
        "\n",
        "    return 0\n"
      ],
      "metadata": {
        "id": "7_ah5nJ7ZOy-"
      },
      "execution_count": null,
      "outputs": []
    },
    {
      "cell_type": "markdown",
      "source": [
        "### Definição de uma função para associar entidades"
      ],
      "metadata": {
        "id": "J_wRbduFxdQe"
      }
    },
    {
      "cell_type": "code",
      "source": [
        "def associate_entities(main_entity, associated_entity, limit=100):\n",
        "    conn = sqlite3.connect('banco.db')\n",
        "\n",
        "    query = f\"SELECT id FROM {main_entity}\"\n",
        "    df = pd.read_sql_query(query, conn)\n",
        "\n",
        "    conn.close()\n",
        "\n",
        "    request_count = 0\n",
        "    data = pd.DataFrame()\n",
        "\n",
        "    for index, row in df.iterrows():\n",
        "        id = row['id']\n",
        "        print(id)\n",
        "        offset = 0\n",
        "        total = 0\n",
        "\n",
        "        while offset <= total or total == 0:\n",
        "            params = auth_params\n",
        "            params.update({\n",
        "                'offset': offset,\n",
        "                'limit': limit\n",
        "            })\n",
        "\n",
        "            api_resp = requests.get(f\"https://gateway.marvel.com/v1/public/{main_entity}/{id}/{associated_entity}\", params=params)\n",
        "            request_count += 1\n",
        "\n",
        "            response = api_resp.json()\n",
        "            results = response['data']['results']\n",
        "\n",
        "            temp_df = pd.DataFrame(results)\n",
        "\n",
        "            temp_df[f'{main_entity}_id'] = id\n",
        "\n",
        "            data = pd.concat([data, temp_df], ignore_index=True)\n",
        "\n",
        "            if total == 0:\n",
        "                total = response['data']['total']\n",
        "                if total == 0:\n",
        "                    break\n",
        "\n",
        "            offset += limit\n",
        "\n",
        "            request_count += 1\n",
        "    return data"
      ],
      "metadata": {
        "id": "xa47xbKaDfNz"
      },
      "execution_count": null,
      "outputs": []
    },
    {
      "cell_type": "markdown",
      "source": [
        "## Requisições"
      ],
      "metadata": {
        "id": "AkZqdZ8874vH"
      }
    },
    {
      "cell_type": "markdown",
      "source": [
        "### Requisição do Endpoint Characters e inserção dos dados no Banco"
      ],
      "metadata": {
        "id": "jPOk6DwJvHKs"
      }
    },
    {
      "cell_type": "code",
      "source": [
        "characters = get_data(url1)\n",
        "characters = characters.rename(columns={\n",
        "    'comics.available': 'comics_available',\n",
        "    'events.available': 'events_available'\n",
        "})\n",
        "columns = ['id', 'name','description', 'comics_available', 'events_available']\n",
        "create_table(characters, columns, 'characters')"
      ],
      "metadata": {
        "collapsed": true,
        "id": "DNcPAHLQ8U4d"
      },
      "execution_count": null,
      "outputs": []
    },
    {
      "cell_type": "markdown",
      "source": [
        "### Requisição do Endpoint Comics e inserção dos dados no Banco"
      ],
      "metadata": {
        "id": "JpPaATvnvjCz"
      }
    },
    {
      "cell_type": "code",
      "source": [
        "comics = get_data(url2)\n",
        "comics['price'] = comics['prices'].apply(extrair_preco)\n",
        "\n",
        "columns = ['id','digitalId','title','pageCount', 'price']\n",
        "create_table(comics, columns, 'comics')"
      ],
      "metadata": {
        "id": "rhw-nScLYNyD"
      },
      "execution_count": null,
      "outputs": []
    },
    {
      "cell_type": "markdown",
      "source": [
        "### Gerando dataframe de associação entre charactes e comics"
      ],
      "metadata": {
        "id": "-WK4YWire3OS"
      }
    },
    {
      "cell_type": "code",
      "source": [
        "charactes_comics = associate_entities(\"characters\",\"comics\")\n",
        "\n",
        "comics_chars.rename(columns={'id': 'comic_id'})\n",
        "columns = ['character_id', 'comic_id']\n",
        "create_table(comics_chars, columns, 'characters_comics')"
      ],
      "metadata": {
        "id": "7Vk4aqLpczX8"
      },
      "execution_count": null,
      "outputs": []
    },
    {
      "cell_type": "markdown",
      "source": [
        "### Requisição do Endpoint Events e inserção dos dados no Banco"
      ],
      "metadata": {
        "id": "IpwUXSv95wtW"
      }
    },
    {
      "cell_type": "code",
      "source": [
        "events = get_data(url3)\n",
        "\n",
        "events = events.rename(columns={\n",
        "    'comics.available': 'comics_available',\n",
        "})\n",
        "\n",
        "create_table(events, ['id', 'title','comics_available', 'start', 'end'], 'events')"
      ],
      "metadata": {
        "id": "6g4yE10n4YAV"
      },
      "execution_count": null,
      "outputs": []
    },
    {
      "cell_type": "markdown",
      "source": [
        "### Gerando dataframe de associação entre events e comics"
      ],
      "metadata": {
        "id": "4HoEHWoXfSLa"
      }
    },
    {
      "cell_type": "code",
      "source": [
        "comics_events = associate_entities(\"events\", \"comics\", 20)\n",
        "\n",
        "comics_events = comics_events.rename(columns={\n",
        "    'id': 'comic_id',\n",
        "    'events_id': 'event_id'\n",
        "})\n",
        "\n",
        "columns = ['comic_id', 'event_id']\n",
        "\n",
        "create_table(comics_events, columns, 'comics_events')"
      ],
      "metadata": {
        "id": "6mbQUOBN7nTq"
      },
      "execution_count": null,
      "outputs": []
    },
    {
      "cell_type": "markdown",
      "source": [
        "### Requisição do Endpoint Series e inserção dos dados no Banco"
      ],
      "metadata": {
        "id": "MOEueee9f8AL"
      }
    },
    {
      "cell_type": "code",
      "source": [
        "series = get_data(url4)\n",
        "\n",
        "series = series.rename(columns={\n",
        "    'comics.available': 'comics_available',\n",
        "    'events.available': 'events_available',\n",
        "})\n",
        "\n",
        "create_table(series, ['id', 'title', 'startYear', 'endYear','comics_available', 'events_available'], 'series')"
      ],
      "metadata": {
        "id": "nyvUDqq4f392"
      },
      "execution_count": null,
      "outputs": []
    }
  ]
}